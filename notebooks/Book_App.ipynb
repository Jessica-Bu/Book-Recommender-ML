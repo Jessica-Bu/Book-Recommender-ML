{
 "cells": [
  {
   "cell_type": "code",
   "execution_count": null,
   "id": "ece390c4-2ace-45e9-a2dd-b3aa67e15bd2",
   "metadata": {},
   "outputs": [],
   "source": [
    "import numpy as np \n",
    "import pandas as pd\n",
    "import warnings\n",
    "\n",
    "# 📊 Visualizations\n",
    "import matplotlib.pyplot as plt\n",
    "import seaborn as sns\n",
    "\n",
    "# 🤖 Machine Learning\n",
    "from sklearn.preprocessing import StandardScaler, LabelEncoder\n",
    "\n",
    "from sklearn.cluster import KMeans"
   ]
  },
  {
   "cell_type": "code",
   "execution_count": null,
   "id": "d5164e04-e6b1-4a56-ac31-a2c6dc6507c7",
   "metadata": {},
   "outputs": [],
   "source": [
    "pd.set_option('display.max_columns', None) # display all columns\n",
    "warnings.filterwarnings('ignore') # ignore warnings"
   ]
  },
  {
   "cell_type": "markdown",
   "id": "439e77cc-30dd-43e3-8168-21533c8f4cbf",
   "metadata": {},
   "source": [
    "## Data"
   ]
  },
  {
   "cell_type": "code",
   "execution_count": null,
   "id": "e0cbffe7-58af-4cce-9794-b4beae96337d",
   "metadata": {},
   "outputs": [],
   "source": [
    "books_final = pd.read_csv(\"books_final.csv\")\n",
    "books_final"
   ]
  },
  {
   "cell_type": "code",
   "execution_count": null,
   "id": "e05a79dc-cfda-487c-93cb-a8d36e56c226",
   "metadata": {},
   "outputs": [],
   "source": [
    "data_features = books_final[[\"Author\", \"Genre\"]]\n",
    "data_features"
   ]
  },
  {
   "cell_type": "code",
   "execution_count": null,
   "id": "a884345c-b434-411e-9753-8735d67c7869",
   "metadata": {},
   "outputs": [],
   "source": [
    "from sklearn.preprocessing import OneHotEncoder\n",
    "\n",
    "ohe = OneHotEncoder(sparse_output=False) # To avoid having an sparse_matrix as output\n",
    "\n",
    "ohe.fit(data_features[['Author','Genre']]) # The .fit() method determines the unique values of each column\n",
    "data_features_ohe = ohe.transform(data_features[['Author','Genre']])\n",
    "data_features_ohe = pd.DataFrame(data_features_ohe)\n",
    "data_features_ohe"
   ]
  },
  {
   "cell_type": "markdown",
   "id": "ac35474d-212a-41fa-9a6e-68a6ad99f77c",
   "metadata": {},
   "source": [
    "## Elbow method"
   ]
  },
  {
   "cell_type": "code",
   "execution_count": null,
   "id": "05a1aefc-08ba-49f2-a620-fad912883088",
   "metadata": {},
   "outputs": [],
   "source": [
    "inertias = []\n",
    "range_of_clusters = range(1, 11)\n",
    "\n",
    "for k in range_of_clusters:\n",
    "    model = KMeans(n_clusters=k, random_state=42, n_init=10)\n",
    "    model.fit(data_features_ohe)\n",
    "    inertias.append(model.inertia_)\n",
    "inertias"
   ]
  },
  {
   "cell_type": "code",
   "execution_count": null,
   "id": "ea76e532-2df2-438e-9ac0-4c98236c96b4",
   "metadata": {},
   "outputs": [],
   "source": [
    "import plotly.graph_objects as go"
   ]
  },
  {
   "cell_type": "code",
   "execution_count": null,
   "id": "14a7f38b-36e9-486f-b73e-a97cb4c6c664",
   "metadata": {},
   "outputs": [],
   "source": [
    "fig = go.Figure()\n",
    "fig.add_trace(go.Scatter(x=list(range_of_clusters), y=inertias, mode='lines+markers', name='Inertia'))\n",
    "fig.update_layout(title='Elbow Method For Optimal k',\n",
    "                  xaxis_title='Number of clusters, k',\n",
    "                  yaxis_title='Inertia',\n",
    "                  xaxis=dict(tickmode='array', tickvals=list(range_of_clusters)))\n",
    "fig.show()"
   ]
  },
  {
   "cell_type": "code",
   "execution_count": null,
   "id": "ed13eb01-fb81-4249-98f5-959647a163c7",
   "metadata": {},
   "outputs": [],
   "source": [
    "import sys\n",
    "from kneed import KneeLocator"
   ]
  },
  {
   "cell_type": "code",
   "execution_count": null,
   "id": "771f17a3-2fba-4f06-a3e9-2733c3110c2b",
   "metadata": {},
   "outputs": [],
   "source": [
    "kn = KneeLocator(range_of_clusters, inertias, curve='convex', direction='decreasing')\n",
    "optimal_clusters = kn.knee\n",
    "\n",
    "print(f\"Knee method optimal clusters: {optimal_clusters}\")"
   ]
  },
  {
   "cell_type": "markdown",
   "id": "8290cdff-4b90-4ac7-adcf-3d0a42769333",
   "metadata": {},
   "source": [
    "## K-Means"
   ]
  },
  {
   "cell_type": "code",
   "execution_count": null,
   "id": "97a74c99-8477-484e-b345-0ff2af79b59c",
   "metadata": {},
   "outputs": [],
   "source": [
    "num_clusters = 7  \n",
    "kmeans = KMeans(n_clusters=num_clusters, random_state=42)\n",
    "books_final[\"cluster\"] = kmeans.fit_predict(data_features_ohe)\n",
    "books_final"
   ]
  },
  {
   "cell_type": "code",
   "execution_count": null,
   "id": "ea771114-b5e4-4ea5-8f88-ee2640524086",
   "metadata": {},
   "outputs": [],
   "source": [
    "from sklearn.metrics import silhouette_score"
   ]
  },
  {
   "cell_type": "code",
   "execution_count": null,
   "id": "62d9c6f2-8ecd-434c-857e-ee26ccd7f82f",
   "metadata": {},
   "outputs": [],
   "source": [
    "silhouette_avg = silhouette_score(data_features_ohe, kmeans.labels_)\n",
    "print(f'Silhouette Score: {silhouette_avg:.3f}')"
   ]
  },
  {
   "cell_type": "markdown",
   "id": "c13539f5-99db-4997-b3fc-85a207af6bac",
   "metadata": {},
   "source": [
    "## Recommender"
   ]
  },
  {
   "cell_type": "code",
   "execution_count": null,
   "id": "30df419d-9044-45c2-8f58-8a408bb5bdf5",
   "metadata": {},
   "outputs": [],
   "source": [
    "def recommend_similar_books(book_index, df):\n",
    "    cluster_label = df.loc[book_index, \"cluster\"]\n",
    "    cluster_value = cluster_label.iloc[0]\n",
    "    return df[df[\"cluster\"] == cluster_value].sample(5)  # Return 5 random recommendations"
   ]
  },
  {
   "cell_type": "code",
   "execution_count": null,
   "id": "a96d91ff-186c-423e-adef-516003434dbf",
   "metadata": {},
   "outputs": [],
   "source": [
    "choice = \"Dust\"\n",
    "\n",
    "book_index = books_final[books_final['Title'] == choice].index\n",
    "book_index\n",
    "\n",
    "cluster_label = books_final.loc[book_index, \"cluster\"]\n",
    "cluster_label\n",
    "\n",
    "cluster_value = cluster_label.iloc[0]\n",
    "cluster_value\n",
    "\n",
    "rec = books_final[books_final[\"cluster\"] == cluster_value].sample(5)\n",
    "rec\n",
    "\n",
    "#rec = recommend_similar_books(book_index, books_final)\n",
    "#rec"
   ]
  },
  {
   "cell_type": "code",
   "execution_count": null,
   "id": "e7e3f151-1796-44b2-a12b-4eceeaaf93b7",
   "metadata": {},
   "outputs": [],
   "source": [
    "#Select other cars in the same cluster (cluster 3)\n",
    "\n",
    "books_final[books_final[\"cluster\"] == 3].sample(5)"
   ]
  },
  {
   "cell_type": "code",
   "execution_count": null,
   "id": "f72ce0c1-53b8-4758-9e48-43606291b1b0",
   "metadata": {},
   "outputs": [],
   "source": [
    "!streamlit run 4-ML-App.py"
   ]
  },
  {
   "cell_type": "code",
   "execution_count": null,
   "id": "cde9922d-258b-455a-97a1-0424e8a842d8",
   "metadata": {},
   "outputs": [],
   "source": [
    "books_final[books_final[\"cluster\"] == np.random.random_integers(1,7)].sample(5)"
   ]
  },
  {
   "cell_type": "code",
   "execution_count": null,
   "id": "998cc072-700a-491a-b63e-0e00bec45be1",
   "metadata": {},
   "outputs": [],
   "source": [
    "books_final.sample(5)"
   ]
  },
  {
   "cell_type": "code",
   "execution_count": null,
   "id": "65791d12-7b25-4e3b-89b9-7d7c08b93c56",
   "metadata": {},
   "outputs": [],
   "source": [
    "!streamlit run Recommender.py"
   ]
  },
  {
   "cell_type": "code",
   "execution_count": null,
   "id": "1b2a0257-ea36-4702-926e-18bb9c676722",
   "metadata": {},
   "outputs": [],
   "source": []
  }
 ],
 "metadata": {
  "kernelspec": {
   "display_name": "Python [conda env:base] *",
   "language": "python",
   "name": "conda-base-py"
  },
  "language_info": {
   "codemirror_mode": {
    "name": "ipython",
    "version": 3
   },
   "file_extension": ".py",
   "mimetype": "text/x-python",
   "name": "python",
   "nbconvert_exporter": "python",
   "pygments_lexer": "ipython3",
   "version": "3.12.3"
  }
 },
 "nbformat": 4,
 "nbformat_minor": 5
}
