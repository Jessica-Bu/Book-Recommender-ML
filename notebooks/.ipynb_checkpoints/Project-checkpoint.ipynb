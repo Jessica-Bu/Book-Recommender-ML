{
 "cells": [
  {
   "cell_type": "code",
   "execution_count": null,
   "id": "e294aa9c-1515-40bb-a3d8-22630a9475d7",
   "metadata": {},
   "outputs": [],
   "source": [
    "import pandas as pd\n",
    "from bs4 import BeautifulSoup\n",
    "import requests\n",
    "import os\n",
    "\n",
    "pd.set_option('display.max_columns', None) # display all columns\n",
    "import warnings\n",
    "warnings.filterwarnings('ignore') # ignore warnings"
   ]
  },
  {
   "cell_type": "markdown",
   "id": "3fa7c236-51a3-434b-a7e9-5b8fbba4df36",
   "metadata": {},
   "source": [
    "## Links"
   ]
  },
  {
   "cell_type": "code",
   "execution_count": null,
   "id": "63fce87b-223b-4eb1-8c35-7a85c05657d2",
   "metadata": {},
   "outputs": [],
   "source": [
    "links = []\n",
    "\n",
    "for number in range(1,26):\n",
    "    links.append(\"https://books.toscrape.com/catalogue/category/books_1/page-\" + str(number) + \".html\")\n",
    "links"
   ]
  },
  {
   "cell_type": "code",
   "execution_count": null,
   "id": "cfed2b23-624b-42c2-ae78-27a26a027b38",
   "metadata": {},
   "outputs": [],
   "source": [
    "for link in links:\n",
    "    response = requests.get(link)\n",
    "    print(response.status_code)"
   ]
  },
  {
   "cell_type": "code",
   "execution_count": null,
   "id": "c823c020-02fa-488e-bd04-96f2a8bb299d",
   "metadata": {},
   "outputs": [],
   "source": [
    "soup_objects = {}\n",
    "\n",
    "for link in links:\n",
    "    response = requests.get(link)\n",
    "    soup = BeautifulSoup(response.text, \"html.parser\")\n",
    "    soup_objects[link] = soup"
   ]
  },
  {
   "cell_type": "markdown",
   "id": "e5d2b104-c663-4203-862b-808b2467e5c0",
   "metadata": {},
   "source": [
    "## Titles, Prices, Ratings, Pictures"
   ]
  },
  {
   "cell_type": "code",
   "execution_count": null,
   "id": "aa55d555-d172-4cd3-9e15-03628dd99ce9",
   "metadata": {
    "scrolled": true
   },
   "outputs": [],
   "source": [
    "titles = []\n",
    "for link, soup in soup_objects.items():\n",
    "    for li in soup.select(\"ol.row li h3 a\"):\n",
    "        titles.append(li[\"title\"])\n",
    "\n",
    "titles"
   ]
  },
  {
   "cell_type": "code",
   "execution_count": null,
   "id": "b46a49d0-4616-424c-b645-e435a25a2bd0",
   "metadata": {
    "scrolled": true
   },
   "outputs": [],
   "source": [
    "prices = []\n",
    "\n",
    "for link in links:\n",
    "    for li in soup.select(\"ol.row p.price_color\"):\n",
    "        prices.append(li.get_text()[1:])\n",
    "\n",
    "prices"
   ]
  },
  {
   "cell_type": "code",
   "execution_count": null,
   "id": "d5e84dad-a679-43a5-bed5-78f7f8089518",
   "metadata": {
    "scrolled": true
   },
   "outputs": [],
   "source": [
    "ratings = []\n",
    "\n",
    "for link in links:\n",
    "    rating_element = soup.find_all(\"p\", class_ = \"star-rating\")\n",
    "\n",
    "    for rating_element in rating_element:\n",
    "        ratings.append(rating_element[\"class\"][1])\n",
    "\n",
    "ratings"
   ]
  },
  {
   "cell_type": "code",
   "execution_count": null,
   "id": "07f69326-c83f-4e20-a7fa-1448c9a0139e",
   "metadata": {
    "scrolled": true
   },
   "outputs": [],
   "source": [
    "from urllib.parse import urljoin\n",
    "\n",
    "pictures = []\n",
    "\n",
    "for link in links:\n",
    "    image_tags = soup.select(\"div.image_container img\")\n",
    "\n",
    "    for img in image_tags:\n",
    "        # Build full URL correctly\n",
    "        img_url = urljoin(link, img[\"src\"])\n",
    "        img_data = requests.get(img_url).content\n",
    "        pictures.append(img_url)\n",
    "    \n",
    "print(f\"Collected {len(pictures)} images\")"
   ]
  },
  {
   "cell_type": "code",
   "execution_count": null,
   "id": "6e899413-0156-425b-bded-efcfdaf89564",
   "metadata": {},
   "outputs": [],
   "source": [
    "books = pd.DataFrame({\"Title\": titles, \"Price\": prices, \"Rating\": ratings, \"Picture\": pictures})\n",
    "books"
   ]
  },
  {
   "cell_type": "markdown",
   "id": "fd9f788c-3591-4e20-9dd3-c6011279402e",
   "metadata": {},
   "source": [
    "## Links product pages"
   ]
  },
  {
   "cell_type": "code",
   "execution_count": null,
   "id": "34a01f30-c557-40a9-ab1f-35195f4aedb0",
   "metadata": {
    "scrolled": true
   },
   "outputs": [],
   "source": [
    "titles_link = []\n",
    "\n",
    "for title in titles:\n",
    "    title = title.lower()\n",
    "    title = title.replace(\":\", \"\")\n",
    "    title = title.replace(\"'\", \"\")\n",
    "    title = title.replace(\"#\", \"\")\n",
    "    title = title.replace(\"(\", \"\")\n",
    "    title = title.replace(\")\", \"\")\n",
    "    title = title.replace(\",\", \"\")\n",
    "    title = title.replace(\".\", \"\")\n",
    "    title = title.replace(\"&\", \"\")\n",
    "    title = title.replace(\"-\", \"\")\n",
    "    title = title.replace(\"*\", \"\")\n",
    "    title = title.replace(\"?\", \"\")\n",
    "    title = title.replace(\"!\", \"\")\n",
    "    title = title.replace(\"%\", \"\")\n",
    "    title = title.replace('\"', \"\")\n",
    "    title = title.replace(\" \", \"-\")\n",
    "    titles_link.append(title)\n",
    "\n",
    "titles_link\n"
   ]
  },
  {
   "cell_type": "code",
   "execution_count": null,
   "id": "62c86c30-12f0-437a-997e-6e8555bcf544",
   "metadata": {
    "scrolled": true
   },
   "outputs": [],
   "source": [
    "links_pp = []\n",
    "\n",
    "for title in titles_link:\n",
    "    links_pp.append(\"https://books.toscrape.com/catalogue/\" + title + \"_\" + str(1000 - titles_link.index(title)) + \"/index.html\")\n",
    "    \n",
    "links_pp"
   ]
  },
  {
   "cell_type": "code",
   "execution_count": null,
   "id": "d623d7a1-5f16-414c-8e8d-0c23a5a8791e",
   "metadata": {},
   "outputs": [],
   "source": [
    "soup_objects = {}\n",
    "\n",
    "for link in links_pp:\n",
    "    response = requests.get(link)\n",
    "    soup = BeautifulSoup(response.text, \"html.parser\")\n",
    "    soup_objects[link] = soup"
   ]
  },
  {
   "cell_type": "code",
   "execution_count": null,
   "id": "0c941865-6698-40c7-9d2f-ff35af81ee8f",
   "metadata": {},
   "outputs": [],
   "source": [
    "soup_objects = {}\n",
    "\n",
    "for link in links_pp:\n",
    "    try:\n",
    "        r = requests.get(link, timeout=10)\n",
    "        r.raise_for_status()\n",
    "        soup_objects[link] = BeautifulSoup(r.text, \"html.parser\")\n",
    "    except Exception as e:\n",
    "        print(f\"Failed to fetch {link}: {e}\")"
   ]
  },
  {
   "cell_type": "code",
   "execution_count": null,
   "id": "dcb78c8b-e628-4d7f-a6a5-388bae5de553",
   "metadata": {
    "scrolled": true
   },
   "outputs": [],
   "source": [
    "titles_2 = []\n",
    "\n",
    "for link, soup in soup_objects.items():\n",
    "    for title in soup.select(\"div.row h1\"):\n",
    "        titles_2.append(title.get_text(strip=True))\n",
    "\n",
    "titles_2"
   ]
  },
  {
   "cell_type": "code",
   "execution_count": null,
   "id": "70a9e611-8837-4967-bc55-65a030ce1100",
   "metadata": {
    "scrolled": true
   },
   "outputs": [],
   "source": [
    "genres = []\n",
    "for link, soup in soup_objects.items():\n",
    "    li_elements = soup.select(\"ul.breadcrumb li a\")\n",
    "    if len(li_elements) >= 3:\n",
    "        category = li_elements[2].get_text(strip=True)  # index 2 = 3rd item\n",
    "        genres.append(category)\n",
    "\n",
    "genres"
   ]
  },
  {
   "cell_type": "code",
   "execution_count": null,
   "id": "406b31cc-8906-429e-b924-7d03d0752fc4",
   "metadata": {},
   "outputs": [],
   "source": [
    "len(titles_2)"
   ]
  },
  {
   "cell_type": "code",
   "execution_count": null,
   "id": "d0e674f3-d8a3-4f2d-84df-74a7672cb6cf",
   "metadata": {},
   "outputs": [],
   "source": [
    "len(genres)"
   ]
  },
  {
   "cell_type": "code",
   "execution_count": null,
   "id": "6228fedd-e166-424b-a1c0-88bf978a95d2",
   "metadata": {
    "scrolled": true
   },
   "outputs": [],
   "source": [
    "descriptions = []\n",
    "\n",
    "for link, soup in soup_objects.items():\n",
    "    desc = soup.select_one(\"#product_description + p\")\n",
    "    if desc:\n",
    "        descriptions.append(desc.get_text(strip=True))\n",
    "    else:\n",
    "        descriptions.append(\"no description available\")\n",
    "        \n",
    "descriptions"
   ]
  },
  {
   "cell_type": "code",
   "execution_count": null,
   "id": "e021bdef-7a5b-4d27-9e0f-c8c83ef71404",
   "metadata": {},
   "outputs": [],
   "source": [
    "print(\"soup_objects length:\", len(soup_objects))\n",
    "print(\"titles_2 length:\", len(titles))\n",
    "print(\"genres length:\", len(genres))\n",
    "print(\"descriptions length:\", len(descriptions))"
   ]
  },
  {
   "cell_type": "code",
   "execution_count": null,
   "id": "2df64211-1b88-492d-aea0-f5ad7ba88387",
   "metadata": {},
   "outputs": [],
   "source": [
    "len(descriptions)"
   ]
  },
  {
   "cell_type": "code",
   "execution_count": null,
   "id": "0ac2fdbd-bc67-4ece-a61a-87496e2e8869",
   "metadata": {},
   "outputs": [],
   "source": [
    "books_2 = pd.DataFrame({\"Title\": titles_2, \"Genre\": genres, \"Description\": descriptions})\n",
    "\n",
    "books_2"
   ]
  },
  {
   "cell_type": "code",
   "execution_count": null,
   "id": "f1019e73-f336-43b5-afca-217652252fcf",
   "metadata": {},
   "outputs": [],
   "source": [
    "#books_2.to_csv(\"../data/raw/books2.csv\", index=False, encoding=\"utf-8\", sep=\",\")"
   ]
  },
  {
   "cell_type": "code",
   "execution_count": null,
   "id": "34bfcb00-397f-4969-8417-fefb59e60b76",
   "metadata": {},
   "outputs": [],
   "source": [
    "#books.to_csv(\"../data/raw/books1.csv\", index=False, encoding=\"utf-8\", sep=\",\")"
   ]
  },
  {
   "cell_type": "code",
   "execution_count": null,
   "id": "eb1e28e0-e0ae-4fd9-b5be-b2448ba56e4a",
   "metadata": {},
   "outputs": [],
   "source": [
    "books_scraped = pd.merge(books, books_2, on = \"Title\", how = \"inner\")\n",
    "books_scraped"
   ]
  },
  {
   "cell_type": "code",
   "execution_count": null,
   "id": "29fe86ad-1d6c-42d1-973b-6bf42fa2749b",
   "metadata": {},
   "outputs": [],
   "source": [
    "#books_scraped.to_csv(\"../data/raw/books_scraped.csv\", index=False, encoding=\"utf-8\", sep=\",\")"
   ]
  },
  {
   "cell_type": "code",
   "execution_count": null,
   "id": "2d7dca2c-08cb-4bb3-aa64-cffd2071a74a",
   "metadata": {
    "scrolled": true
   },
   "outputs": [],
   "source": [
    "books_scraped[\"Author\"] = \"not available\"\n",
    "books_scraped"
   ]
  },
  {
   "cell_type": "code",
   "execution_count": null,
   "id": "5b814760-0fb0-45fa-8b51-2bb340a0a7b3",
   "metadata": {},
   "outputs": [],
   "source": [
    "selected_col = [\"Title\", \"Author\", \"Genre\", \"Price\", \"Rating\", \"Description\", \"Picture\"]\n",
    "\n",
    "books_scraped_final = books_scraped[selected_col]\n",
    "\n",
    "books_scraped_final"
   ]
  },
  {
   "cell_type": "code",
   "execution_count": null,
   "id": "9e745cb7-2b26-4d8e-9b4e-0bbb4003020f",
   "metadata": {},
   "outputs": [],
   "source": [
    "books_api1 = pd.read_csv(\"../data/raw/books_random.csv\")\n",
    "books_api1"
   ]
  },
  {
   "cell_type": "code",
   "execution_count": null,
   "id": "dd612f65-95be-49ea-a1fc-cd2ac4e59987",
   "metadata": {},
   "outputs": [],
   "source": [
    "books_api2 = pd.read_csv(\"../data/raw/books_random2.csv\")\n",
    "books_api2"
   ]
  },
  {
   "cell_type": "code",
   "execution_count": null,
   "id": "438a5a11-af24-42b2-b569-df96f5d4e1cf",
   "metadata": {},
   "outputs": [],
   "source": [
    "books_api3 = pd.read_csv(\"../data/raw/books_random3.csv\")\n",
    "books_api3"
   ]
  },
  {
   "cell_type": "code",
   "execution_count": null,
   "id": "489915e4-99b2-40c9-b161-1f66783ce9e7",
   "metadata": {},
   "outputs": [],
   "source": [
    "books_api4 = pd.read_csv(\"../data/raw/books_random4.csv\")\n",
    "books_api4"
   ]
  },
  {
   "cell_type": "code",
   "execution_count": null,
   "id": "814a9d72-f292-4a00-955d-35c092f59acf",
   "metadata": {},
   "outputs": [],
   "source": [
    "books_api5 = pd.read_csv(\"../data/raw/books_random5.csv\")\n",
    "books_api5"
   ]
  },
  {
   "cell_type": "code",
   "execution_count": null,
   "id": "41243070-cab3-4b6a-b903-104fa32fb7e9",
   "metadata": {},
   "outputs": [],
   "source": [
    "books_api = pd.concat([books_api1, books_api2], axis = 0).reset_index(drop=True)\n",
    "books_api"
   ]
  },
  {
   "cell_type": "code",
   "execution_count": null,
   "id": "b064396e-a5e9-4514-ad7b-27abe043e399",
   "metadata": {},
   "outputs": [],
   "source": [
    "books_api = pd.concat([books_api, books_api3], axis = 0).reset_index(drop=True)\n",
    "books_api"
   ]
  },
  {
   "cell_type": "code",
   "execution_count": null,
   "id": "a4e0c227-2826-4d3c-82cf-8b93fb42e7df",
   "metadata": {},
   "outputs": [],
   "source": [
    "books_api = pd.concat([books_api, books_api4], axis = 0).reset_index(drop=True)\n",
    "books_api"
   ]
  },
  {
   "cell_type": "code",
   "execution_count": null,
   "id": "b3482b3a-175a-4398-90b7-47a723cdc55f",
   "metadata": {},
   "outputs": [],
   "source": [
    "books_api = pd.concat([books_api, books_api5], axis = 0).reset_index(drop=True)\n",
    "books_api"
   ]
  },
  {
   "cell_type": "code",
   "execution_count": null,
   "id": "d190d68a-ca3d-4f68-be24-140b4c4e77aa",
   "metadata": {},
   "outputs": [],
   "source": [
    "books_api[\"Genre\"].isna().sum()"
   ]
  },
  {
   "cell_type": "code",
   "execution_count": null,
   "id": "56c7edf3-d1a5-4e8d-bdfa-51c01c03513d",
   "metadata": {},
   "outputs": [],
   "source": [
    "books_api = books_api.dropna(subset=['Genre'])\n",
    "books_api"
   ]
  },
  {
   "cell_type": "code",
   "execution_count": null,
   "id": "edf4ae5f-8138-4e3d-be38-415661dd8538",
   "metadata": {},
   "outputs": [],
   "source": [
    "books_api[\"Authors\"].isna().sum()"
   ]
  },
  {
   "cell_type": "code",
   "execution_count": null,
   "id": "32ad89c3-89ca-4264-8eb6-a0c6f5c148e8",
   "metadata": {},
   "outputs": [],
   "source": [
    "books_api = books_api.dropna(subset=['Authors'])\n",
    "books_api"
   ]
  },
  {
   "cell_type": "code",
   "execution_count": null,
   "id": "aa95a8d3-164a-459b-a440-18452088bd93",
   "metadata": {},
   "outputs": [],
   "source": [
    "books_api[\"Price\"].isna().sum()"
   ]
  },
  {
   "cell_type": "code",
   "execution_count": null,
   "id": "371b99d9-aff8-4797-9ebb-2810cc2fdeba",
   "metadata": {},
   "outputs": [],
   "source": [
    "books_api.columns = [\"Title\", \"Author\", \"Genre\", \"Price\", \"Rating\", \"Description\", \"Picture\"]\n",
    "books_api"
   ]
  },
  {
   "cell_type": "code",
   "execution_count": null,
   "id": "acead494-436c-40f8-a89b-49eaddef9ce3",
   "metadata": {},
   "outputs": [],
   "source": [
    "books_final = pd.concat([books_scraped_final, books_api], axis = 0).reset_index(drop=True)\n",
    "books_final"
   ]
  },
  {
   "cell_type": "code",
   "execution_count": null,
   "id": "4dbd2e22-23bf-40fe-8efd-c5720fb5de4e",
   "metadata": {},
   "outputs": [],
   "source": [
    "books_final[\"Price\"].isna().sum()"
   ]
  },
  {
   "cell_type": "code",
   "execution_count": null,
   "id": "a2532abd-fb15-4960-b1bc-d1035d13d80b",
   "metadata": {},
   "outputs": [],
   "source": [
    "books_final.duplicated().sum()"
   ]
  },
  {
   "cell_type": "code",
   "execution_count": null,
   "id": "b21fc326-1627-4246-ba6c-0d60d9b06ab7",
   "metadata": {},
   "outputs": [],
   "source": [
    "books_final = books_final.drop_duplicates()\n",
    "books_final"
   ]
  },
  {
   "cell_type": "code",
   "execution_count": null,
   "id": "d6432023-3dd1-44fd-8408-a51ebf1e12f4",
   "metadata": {},
   "outputs": [],
   "source": [
    "#books_final.to_csv(\"../data/clean/books_final.csv\", index=False, encoding=\"utf-8\", sep=\",\")"
   ]
  },
  {
   "cell_type": "code",
   "execution_count": null,
   "id": "079e09e8-ff19-4293-a6e6-4c3e6be916b7",
   "metadata": {},
   "outputs": [],
   "source": []
  }
 ],
 "metadata": {
  "kernelspec": {
   "display_name": "Python [conda env:base] *",
   "language": "python",
   "name": "conda-base-py"
  },
  "language_info": {
   "codemirror_mode": {
    "name": "ipython",
    "version": 3
   },
   "file_extension": ".py",
   "mimetype": "text/x-python",
   "name": "python",
   "nbconvert_exporter": "python",
   "pygments_lexer": "ipython3",
   "version": "3.12.3"
  }
 },
 "nbformat": 4,
 "nbformat_minor": 5
}
